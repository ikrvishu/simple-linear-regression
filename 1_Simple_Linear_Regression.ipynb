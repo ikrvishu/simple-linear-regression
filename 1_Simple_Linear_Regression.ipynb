{
 "cells": [
  {
   "cell_type": "code",
   "execution_count": 114,
   "id": "49d7dba4",
   "metadata": {},
   "outputs": [],
   "source": [
    "import pandas as pd\n",
    "import numpy as np\n",
    "import matplotlib.pyplot as plt"
   ]
  },
  {
   "cell_type": "code",
   "execution_count": 115,
   "id": "2b9f11df",
   "metadata": {},
   "outputs": [
    {
     "data": {
      "text/html": [
       "<div>\n",
       "<style scoped>\n",
       "    .dataframe tbody tr th:only-of-type {\n",
       "        vertical-align: middle;\n",
       "    }\n",
       "\n",
       "    .dataframe tbody tr th {\n",
       "        vertical-align: top;\n",
       "    }\n",
       "\n",
       "    .dataframe thead th {\n",
       "        text-align: right;\n",
       "    }\n",
       "</style>\n",
       "<table border=\"1\" class=\"dataframe\">\n",
       "  <thead>\n",
       "    <tr style=\"text-align: right;\">\n",
       "      <th></th>\n",
       "      <th>experience</th>\n",
       "      <th>salary</th>\n",
       "    </tr>\n",
       "  </thead>\n",
       "  <tbody>\n",
       "    <tr>\n",
       "      <th>0</th>\n",
       "      <td>1</td>\n",
       "      <td>3</td>\n",
       "    </tr>\n",
       "    <tr>\n",
       "      <th>1</th>\n",
       "      <td>2</td>\n",
       "      <td>4</td>\n",
       "    </tr>\n",
       "    <tr>\n",
       "      <th>2</th>\n",
       "      <td>4</td>\n",
       "      <td>5</td>\n",
       "    </tr>\n",
       "    <tr>\n",
       "      <th>3</th>\n",
       "      <td>3</td>\n",
       "      <td>5</td>\n",
       "    </tr>\n",
       "    <tr>\n",
       "      <th>4</th>\n",
       "      <td>7</td>\n",
       "      <td>5</td>\n",
       "    </tr>\n",
       "    <tr>\n",
       "      <th>5</th>\n",
       "      <td>9</td>\n",
       "      <td>9</td>\n",
       "    </tr>\n",
       "    <tr>\n",
       "      <th>6</th>\n",
       "      <td>5</td>\n",
       "      <td>9</td>\n",
       "    </tr>\n",
       "    <tr>\n",
       "      <th>7</th>\n",
       "      <td>10</td>\n",
       "      <td>12</td>\n",
       "    </tr>\n",
       "  </tbody>\n",
       "</table>\n",
       "</div>"
      ],
      "text/plain": [
       "   experience  salary\n",
       "0           1       3\n",
       "1           2       4\n",
       "2           4       5\n",
       "3           3       5\n",
       "4           7       5\n",
       "5           9       9\n",
       "6           5       9\n",
       "7          10      12"
      ]
     },
     "execution_count": 115,
     "metadata": {},
     "output_type": "execute_result"
    }
   ],
   "source": [
    "df1 = pd.DataFrame( {'experience': [1,2,4,  3,7,9,  5,10],\n",
    "                    'salary':      [3,4,5,  5,5,9,  9,12]})\n",
    "df1"
   ]
  },
  {
   "cell_type": "code",
   "execution_count": 116,
   "id": "b7efff5b",
   "metadata": {},
   "outputs": [],
   "source": [
    "X = df1.drop('salary', axis=1)\n",
    "y = df1['salary']"
   ]
  },
  {
   "cell_type": "code",
   "execution_count": 117,
   "id": "51a9e632",
   "metadata": {},
   "outputs": [
    {
     "data": {
      "text/plain": [
       "<matplotlib.collections.PathCollection at 0x2b7096e1640>"
      ]
     },
     "execution_count": 117,
     "metadata": {},
     "output_type": "execute_result"
    },
    {
     "data": {
      "image/png": "[encoded data removed]",
      "text/plain": [
       "<Figure size 432x288 with 1 Axes>"
      ]
     },
     "metadata": {
      "needs_background": "light"
     },
     "output_type": "display_data"
    }
   ],
   "source": [
    "plt.scatter(X.experience, y)"
   ]
  },
  {
   "cell_type": "code",
   "execution_count": 118,
   "id": "85992a73",
   "metadata": {},
   "outputs": [
    {
     "data": {
      "image/png": "[encoded data removed]",
      "text/plain": [
       "<Figure size 432x288 with 1 Axes>"
      ]
     },
     "metadata": {
      "needs_background": "light"
     },
     "output_type": "display_data"
    }
   ],
   "source": [
    "# Manually try different lines (Practically not needed)\n",
    "b0 = 2.2\n",
    "b1 = 0.9\n",
    "\n",
    "y_pred = b0 + b1*X.experience\n",
    "\n",
    "plt.scatter(X.experience, y)\n",
    "plt.plot(X.experience, y_pred)\n",
    "plt.show()"
   ]
  },
  {
   "cell_type": "code",
   "execution_count": 119,
   "id": "f7f3ebe9",
   "metadata": {},
   "outputs": [
    {
     "name": "stdout",
     "output_type": "stream",
     "text": [
      "b1: 0.8080133555926544\n",
      "b0: 2.358931552587646\n"
     ]
    }
   ],
   "source": [
    "# Manually calculate b0 and b1 (Practically not needed once we learn to \n",
    "# build a model) \n",
    "x_bar = np.mean(X.experience)\n",
    "y_bar = np.mean(y)\n",
    "\n",
    "num = np.sum( (X.experience - x_bar) * (y - y_bar) )\n",
    "denom = np.sum( (X.experience - x_bar)**2 )\n",
    "\n",
    "b1 = num/denom\n",
    "b0 = y_bar - b1*x_bar\n",
    "print('b1:', b1)\n",
    "print('b0:', b0)"
   ]
  },
  {
   "cell_type": "code",
   "execution_count": 120,
   "id": "48cf202a",
   "metadata": {},
   "outputs": [
    {
     "data": {
      "image/png": "[encoded data removed]",
      "text/plain": [
       "<Figure size 432x288 with 1 Axes>"
      ]
     },
     "metadata": {
      "needs_background": "light"
     },
     "output_type": "display_data"
    }
   ],
   "source": [
    "# Draw the best-fit line\n",
    "y_pred = b0 + b1*X.experience\n",
    "\n",
    "plt.scatter(X.experience, y)\n",
    "plt.plot(X.experience, y_pred)\n",
    "plt.show()"
   ]
  },
  {
   "cell_type": "code",
   "execution_count": 121,
   "id": "f46e71ee",
   "metadata": {},
   "outputs": [],
   "source": [
    "# Build Linear Regression model using Statsmodels"
   ]
  },
  {
   "cell_type": "code",
   "execution_count": 122,
   "id": "a52f549b",
   "metadata": {},
   "outputs": [],
   "source": [
    "import statsmodels.api as sm"
   ]
  },
  {
   "cell_type": "code",
   "execution_count": null,
   "id": "356b14ad",
   "metadata": {},
   "outputs": [],
   "source": [
    "Xc = sm.add_constant(X)\n",
    "Xc"
   ]
  },
  {
   "cell_type": "code",
   "execution_count": 123,
   "id": "5a82a942",
   "metadata": {},
   "outputs": [
    {
     "name": "stderr",
     "output_type": "stream",
     "text": [
      "C:\\Users\\ASUS\\AppData\\Roaming\\Python\\Python39\\site-packages\\scipy\\stats\\_stats_py.py:1736: UserWarning: kurtosistest only valid for n>=20 ... continuing anyway, n=8\n",
      "  warnings.warn(\"kurtosistest only valid for n>=20 ... continuing \"\n"
     ]
    },
    {
     "data": {
      "text/html": [
       "<table class=\"simpletable\">\n",
       "<caption>OLS Regression Results</caption>\n",
       "<tr>\n",
       "  <th>Dep. Variable:</th>         <td>salary</td>      <th>  R-squared:         </th> <td>   0.719</td>\n",
       "</tr>\n",
       "<tr>\n",
       "  <th>Model:</th>                   <td>OLS</td>       <th>  Adj. R-squared:    </th> <td>   0.672</td>\n",
       "</tr>\n",
       "<tr>\n",
       "  <th>Method:</th>             <td>Least Squares</td>  <th>  F-statistic:       </th> <td>   15.34</td>\n",
       "</tr>\n",
       "<tr>\n",
       "  <th>Date:</th>             <td>Tue, 04 Apr 2023</td> <th>  Prob (F-statistic):</th>  <td>0.00783</td>\n",
       "</tr>\n",
       "<tr>\n",
       "  <th>Time:</th>                 <td>09:36:09</td>     <th>  Log-Likelihood:    </th> <td> -14.836</td>\n",
       "</tr>\n",
       "<tr>\n",
       "  <th>No. Observations:</th>      <td>     8</td>      <th>  AIC:               </th> <td>   33.67</td>\n",
       "</tr>\n",
       "<tr>\n",
       "  <th>Df Residuals:</th>          <td>     6</td>      <th>  BIC:               </th> <td>   33.83</td>\n",
       "</tr>\n",
       "<tr>\n",
       "  <th>Df Model:</th>              <td>     1</td>      <th>                     </th>     <td> </td>   \n",
       "</tr>\n",
       "<tr>\n",
       "  <th>Covariance Type:</th>      <td>nonrobust</td>    <th>                     </th>     <td> </td>   \n",
       "</tr>\n",
       "</table>\n",
       "<table class=\"simpletable\">\n",
       "<tr>\n",
       "       <td></td>         <th>coef</th>     <th>std err</th>      <th>t</th>      <th>P>|t|</th>  <th>[0.025</th>    <th>0.975]</th>  \n",
       "</tr>\n",
       "<tr>\n",
       "  <th>const</th>      <td>    2.3589</td> <td>    1.231</td> <td>    1.916</td> <td> 0.104</td> <td>   -0.654</td> <td>    5.372</td>\n",
       "</tr>\n",
       "<tr>\n",
       "  <th>experience</th> <td>    0.8080</td> <td>    0.206</td> <td>    3.917</td> <td> 0.008</td> <td>    0.303</td> <td>    1.313</td>\n",
       "</tr>\n",
       "</table>\n",
       "<table class=\"simpletable\">\n",
       "<tr>\n",
       "  <th>Omnibus:</th>       <td> 1.065</td> <th>  Durbin-Watson:     </th> <td>   1.503</td>\n",
       "</tr>\n",
       "<tr>\n",
       "  <th>Prob(Omnibus):</th> <td> 0.587</td> <th>  Jarque-Bera (JB):  </th> <td>   0.065</td>\n",
       "</tr>\n",
       "<tr>\n",
       "  <th>Skew:</th>          <td>-0.219</td> <th>  Prob(JB):          </th> <td>   0.968</td>\n",
       "</tr>\n",
       "<tr>\n",
       "  <th>Kurtosis:</th>      <td> 2.947</td> <th>  Cond. No.          </th> <td>    11.9</td>\n",
       "</tr>\n",
       "</table><br/><br/>Notes:<br/>[1] Standard Errors assume that the covariance matrix of the errors is correctly specified."
      ],
      "text/plain": [
       "<class 'statsmodels.iolib.summary.Summary'>\n",
       "\"\"\"\n",
       "                            OLS Regression Results                            \n",
       "==============================================================================\n",
       "Dep. Variable:                 salary   R-squared:                       0.719\n",
       "Model:                            OLS   Adj. R-squared:                  0.672\n",
       "Method:                 Least Squares   F-statistic:                     15.34\n",
       "Date:                Tue, 04 Apr 2023   Prob (F-statistic):            0.00783\n",
       "Time:                        09:36:09   Log-Likelihood:                -14.836\n",
       "No. Observations:                   8   AIC:                             33.67\n",
       "Df Residuals:                       6   BIC:                             33.83\n",
       "Df Model:                           1                                         \n",
       "Covariance Type:            nonrobust                                         \n",
       "==============================================================================\n",
       "                 coef    std err          t      P>|t|      [0.025      0.975]\n",
       "------------------------------------------------------------------------------\n",
       "const          2.3589      1.231      1.916      0.104      -0.654       5.372\n",
       "experience     0.8080      0.206      3.917      0.008       0.303       1.313\n",
       "==============================================================================\n",
       "Omnibus:                        1.065   Durbin-Watson:                   1.503\n",
       "Prob(Omnibus):                  0.587   Jarque-Bera (JB):                0.065\n",
       "Skew:                          -0.219   Prob(JB):                        0.968\n",
       "Kurtosis:                       2.947   Cond. No.                         11.9\n",
       "==============================================================================\n",
       "\n",
       "Notes:\n",
       "[1] Standard Errors assume that the covariance matrix of the errors is correctly specified.\n",
       "\"\"\""
      ]
     },
     "execution_count": 123,
     "metadata": {},
     "output_type": "execute_result"
    }
   ],
   "source": [
    "# Build model using OLS\n",
    "ols_model = sm.OLS(y, Xc).fit()\n",
    "ols_model.summary()"
   ]
  },
  {
   "cell_type": "code",
   "execution_count": 126,
   "id": "fd8a8e90",
   "metadata": {},
   "outputs": [
    {
     "data": {
      "text/plain": [
       "0.7188942354905234"
      ]
     },
     "execution_count": 126,
     "metadata": {},
     "output_type": "execute_result"
    }
   ],
   "source": [
    "np.corrcoef(X.experience, y)[0,1]**2"
   ]
  },
  {
   "cell_type": "code",
   "execution_count": 101,
   "id": "1dcd7486",
   "metadata": {},
   "outputs": [],
   "source": [
    "# Get Predicted y\n"
   ]
  },
  {
   "cell_type": "code",
   "execution_count": 102,
   "id": "6a14357b",
   "metadata": {},
   "outputs": [
    {
     "data": {
      "text/plain": [
       "0     3.166945\n",
       "1     3.974958\n",
       "2     5.590985\n",
       "3     4.782972\n",
       "4     8.015025\n",
       "5     9.631052\n",
       "6     6.398998\n",
       "7    10.439065\n",
       "Name: experience, dtype: float64"
      ]
     },
     "execution_count": 102,
     "metadata": {},
     "output_type": "execute_result"
    }
   ],
   "source": [
    "# Method 1\n",
    "y_pred = ols_model.params[0] + ols_model.params[1]*X.experience\n",
    "y_pred"
   ]
  },
  {
   "cell_type": "code",
   "execution_count": 103,
   "id": "3a8fc1eb",
   "metadata": {},
   "outputs": [
    {
     "data": {
      "text/plain": [
       "0     3.166945\n",
       "1     3.974958\n",
       "2     5.590985\n",
       "3     4.782972\n",
       "4     8.015025\n",
       "5     9.631052\n",
       "6     6.398998\n",
       "7    10.439065\n",
       "dtype: float64"
      ]
     },
     "execution_count": 103,
     "metadata": {},
     "output_type": "execute_result"
    }
   ],
   "source": [
    "# Method 2\n",
    "y_pred = ols_model.predict(Xc)\n",
    "y_pred"
   ]
  },
  {
   "cell_type": "code",
   "execution_count": 104,
   "id": "f5cf6c05",
   "metadata": {},
   "outputs": [
    {
     "data": {
      "text/plain": [
       "0     3.166945\n",
       "1     3.974958\n",
       "2     5.590985\n",
       "3     4.782972\n",
       "4     8.015025\n",
       "5     9.631052\n",
       "6     6.398998\n",
       "7    10.439065\n",
       "dtype: float64"
      ]
     },
     "execution_count": 104,
     "metadata": {},
     "output_type": "execute_result"
    }
   ],
   "source": [
    "# Method 3\n",
    "y_pred = ols_model.fittedvalues\n",
    "y_pred"
   ]
  },
  {
   "cell_type": "code",
   "execution_count": 105,
   "id": "ead40f8c",
   "metadata": {},
   "outputs": [
    {
     "name": "stdout",
     "output_type": "stream",
     "text": [
      "SST 68.0\n",
      "SSR 48.88480801335563\n",
      "SSE 19.11519198664442\n"
     ]
    }
   ],
   "source": [
    "# Manually calculate R2\n",
    "SST = np.sum( (y - y_bar)**2 )\n",
    "print('SST', SST)\n",
    "\n",
    "SSR = np.sum( (y_pred - y_bar)**2 )\n",
    "print('SSR', SSR)\n",
    "\n",
    "SSE = np.sum( (y - y_pred)**2 )\n",
    "print('SSE', SSE)"
   ]
  },
  {
   "cell_type": "code",
   "execution_count": 106,
   "id": "c27ebd43",
   "metadata": {},
   "outputs": [
    {
     "data": {
      "text/plain": [
       "68.00000000000006"
      ]
     },
     "execution_count": 106,
     "metadata": {},
     "output_type": "execute_result"
    }
   ],
   "source": [
    "SSR + SSE"
   ]
  },
  {
   "cell_type": "code",
   "execution_count": 107,
   "id": "6220061e",
   "metadata": {},
   "outputs": [
    {
     "name": "stdout",
     "output_type": "stream",
     "text": [
      "R2 0.718894235490524\n"
     ]
    }
   ],
   "source": [
    "# Calculate R2\n",
    "r2 = SSR/SST\n",
    "print('R2', r2)"
   ]
  },
  {
   "cell_type": "code",
   "execution_count": 108,
   "id": "4e1baec6",
   "metadata": {},
   "outputs": [
    {
     "data": {
      "text/plain": [
       "0.6720432747389447"
      ]
     },
     "execution_count": 108,
     "metadata": {},
     "output_type": "execute_result"
    }
   ],
   "source": [
    "# Calculate Adj R2\n",
    "n=8\n",
    "k=1\n",
    "adj_r2 = 1 - (1-r2)*(n-1)/(n-k-1)\n",
    "adj_r2"
   ]
  },
  {
   "cell_type": "code",
   "execution_count": 109,
   "id": "bbb5a593",
   "metadata": {},
   "outputs": [],
   "source": [
    "# Manually calculate f_stat"
   ]
  },
  {
   "cell_type": "code",
   "execution_count": 110,
   "id": "3adf9ee8",
   "metadata": {},
   "outputs": [
    {
     "data": {
      "text/plain": [
       "15.344279475982535"
      ]
     },
     "execution_count": 110,
     "metadata": {},
     "output_type": "execute_result"
    }
   ],
   "source": [
    "f_stat = (SSR / k) / (SSE / (n-k-1))\n",
    "f_stat"
   ]
  },
  {
   "cell_type": "code",
   "execution_count": 64,
   "id": "f31da347",
   "metadata": {},
   "outputs": [],
   "source": [
    "### Calculate t stat and p_value"
   ]
  },
  {
   "cell_type": "code",
   "execution_count": 65,
   "id": "23473810",
   "metadata": {},
   "outputs": [
    {
     "data": {
      "text/plain": [
       "3.922330097087379"
      ]
     },
     "execution_count": 65,
     "metadata": {},
     "output_type": "execute_result"
    }
   ],
   "source": [
    "t_stat = 0.8080 / 0.206\n",
    "t_stat"
   ]
  },
  {
   "cell_type": "code",
   "execution_count": 66,
   "id": "c13e0cc4",
   "metadata": {},
   "outputs": [],
   "source": [
    "import scipy.stats as stats"
   ]
  },
  {
   "cell_type": "code",
   "execution_count": 67,
   "id": "eb198f63",
   "metadata": {},
   "outputs": [
    {
     "data": {
      "text/plain": [
       "0.007781095985285506"
      ]
     },
     "execution_count": 67,
     "metadata": {},
     "output_type": "execute_result"
    }
   ],
   "source": [
    "p_value = 2 * stats.t.sf(t_stat, df=8-2)\n",
    "p_value"
   ]
  },
  {
   "cell_type": "code",
   "execution_count": null,
   "id": "b423ce84",
   "metadata": {},
   "outputs": [],
   "source": [
    "## Compute Residuals (Error)"
   ]
  },
  {
   "cell_type": "code",
   "execution_count": 68,
   "id": "7421223e",
   "metadata": {},
   "outputs": [
    {
     "data": {
      "text/plain": [
       "0   -0.166945\n",
       "1    0.025042\n",
       "2   -0.590985\n",
       "3    0.217028\n",
       "4   -3.015025\n",
       "5   -0.631052\n",
       "6    2.601002\n",
       "7    1.560935\n",
       "dtype: float64"
      ]
     },
     "execution_count": 68,
     "metadata": {},
     "output_type": "execute_result"
    }
   ],
   "source": [
    "y - y_pred"
   ]
  },
  {
   "cell_type": "code",
   "execution_count": 69,
   "id": "af365009",
   "metadata": {},
   "outputs": [
    {
     "data": {
      "text/plain": [
       "0   -0.166945\n",
       "1    0.025042\n",
       "2   -0.590985\n",
       "3    0.217028\n",
       "4   -3.015025\n",
       "5   -0.631052\n",
       "6    2.601002\n",
       "7    1.560935\n",
       "dtype: float64"
      ]
     },
     "execution_count": 69,
     "metadata": {},
     "output_type": "execute_result"
    }
   ],
   "source": [
    "ols_model.resid"
   ]
  },
  {
   "cell_type": "code",
   "execution_count": null,
   "id": "3e098f48",
   "metadata": {},
   "outputs": [],
   "source": []
  },
  {
   "cell_type": "code",
   "execution_count": null,
   "id": "daadad28",
   "metadata": {},
   "outputs": [],
   "source": []
  },
  {
   "cell_type": "code",
   "execution_count": null,
   "id": "3d3b0f9b",
   "metadata": {},
   "outputs": [],
   "source": []
  },
  {
   "cell_type": "code",
   "execution_count": null,
   "id": "094ac541",
   "metadata": {},
   "outputs": [],
   "source": []
  }
 ],
 "metadata": {
  "kernelspec": {
   "display_name": "Python 3 (ipykernel)",
   "language": "python",
   "name": "python3"
  },
  "language_info": {
   "codemirror_mode": {
    "name": "ipython",
    "version": 3
   },
   "file_extension": ".py",
   "mimetype": "text/x-python",
   "name": "python",
   "nbconvert_exporter": "python",
   "pygments_lexer": "ipython3",
   "version": "3.9.12"
  }
 },
 "nbformat": 4,
 "nbformat_minor": 5
}
